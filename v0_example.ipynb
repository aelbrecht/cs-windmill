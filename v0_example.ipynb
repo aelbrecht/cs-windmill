{
 "cells": [
  {
   "cell_type": "code",
   "execution_count": 8,
   "metadata": {
    "collapsed": true
   },
   "outputs": [],
   "source": [
    "import numpy as np\n",
    "import pandas as pd\n",
    "import rasterio\n",
    "import tensorflow as tf\n",
    "import matplotlib.pyplot as plt\n",
    "from sklearn import preprocessing\n",
    "from sklearn.model_selection import train_test_split"
   ]
  },
  {
   "cell_type": "code",
   "execution_count": 9,
   "outputs": [],
   "source": [
    "block_size = 50"
   ],
   "metadata": {
    "collapsed": false,
    "pycharm": {
     "name": "#%%\n"
    }
   }
  },
  {
   "cell_type": "code",
   "execution_count": 10,
   "outputs": [],
   "source": [
    "dataset = rasterio.open(\"./data/crs.tiff\")\n",
    "img_data = dataset.read(1)"
   ],
   "metadata": {
    "collapsed": false,
    "pycharm": {
     "name": "#%%\n"
    }
   }
  },
  {
   "cell_type": "code",
   "execution_count": 11,
   "outputs": [],
   "source": [
    "def getImageData(lat, lon):\n",
    "    x, y = dataset.index(lon, lat)\n",
    "    img = img_data[x - block_size // 2:x + block_size // 2, y - block_size // 2:y + block_size // 2]\n",
    "\n",
    "    return img\n",
    "\n",
    "# data = pd.read_csv('training/data.csv')\n",
    "# dummies = pd.get_dummies(data.label)\n",
    "# data_full = pd.concat([data,dummies],axis=1)\n",
    "# data_full = data_full.drop(['label'],axis=1)\n",
    "# data_full['block'] = data_full.apply(lambda s: getImageData(s['lat'], s['lon']),axis=1)\n",
    "# data_full.head()\n",
    "\n",
    "data = pd.read_csv('training/data_bin.csv')\n",
    "data['block'] = data.apply(lambda s: getImageData(s['lat'], s['lon']),axis=1)\n",
    "\n",
    "y = data.windmill.values\n",
    "X = data.block.values\n",
    "\n",
    "from sklearn.model_selection import train_test_split\n",
    "X_train, X_test, y_train, y_test = train_test_split(X, y, test_size=0.3)\n",
    "X_train = np.stack(X_train)\n",
    "X_test = np.stack(X_test)\n",
    "\n",
    "# print(y_test[3])\n",
    "# plt.imshow(X_test[3])\n",
    "# plt.show()\n",
    "\n",
    "model = tf.keras.models.Sequential([\n",
    "    tf.keras.layers.Flatten(input_shape=(50, 50)),\n",
    "    tf.keras.layers.Dense(128, activation='relu'),\n",
    "    tf.keras.layers.Dense(64, activation='relu'),\n",
    "    tf.keras.layers.Dropout(0.2),\n",
    "    tf.keras.layers.Dense(2, activation='sigmoid')\n",
    "])\n",
    "\n",
    "loss_fn = tf.keras.losses.SparseCategoricalCrossentropy(from_logits=True)\n",
    "model.compile(optimizer='adam',\n",
    "              loss=loss_fn,\n",
    "              metrics=['accuracy'])\n",
    "\n",
    "#print(model.summary())"
   ],
   "metadata": {
    "collapsed": false,
    "pycharm": {
     "name": "#%%\n"
    }
   }
  },
  {
   "cell_type": "code",
   "execution_count": 12,
   "outputs": [
    {
     "name": "stdout",
     "output_type": "stream",
     "text": [
      "Epoch 1/30\n",
      "3/3 [==============================] - 0s 115ms/step - loss: 358.8729 - accuracy: 0.5694 - val_loss: 129.1338 - val_accuracy: 0.6250\b\b\b\b\b\b\b\b\b\b\b\b\b\b\b\b\b\b\b\b\b\b\b\b\b\b\b\b\b\b\b\b\n",
      "Epoch 2/30\n",
      "3/3 [==============================] - 0s 30ms/step - loss: 169.1636 - accuracy: 0.5139 - val_loss: 53.8257 - val_accuracy: 0.6250\b\b\b\b\b\b\b\b\b\b\b\b\b\b\b\b\b\b\b\b\b\b\b\b\b\b\b\b\b\b\b\b\b\b\n",
      "Epoch 3/30\n",
      "3/3 [==============================] - 0s 52ms/step - loss: 202.7121 - accuracy: 0.5556 - val_loss: 186.7675 - val_accuracy: 0.6250\b\b\b\b\b\b\b\b\b\b\b\b\b\b\b\b\b\b\b\b\b\b\b\b\b\b\b\b\b\b\b\b\b\b\b\b\b\b\b\b\b\b\b\b\b\b\b\b\b\b\b\b\b\b\b\b\b\b\b\b\b\b\b\b\b\b\b\b\b\b\b\b\b\b\b\b\b\b\b\b\b\b\b\b\b\b\b\b\b\b\b\b\b\b\b\b\b\b\b\b\b\b\b\b\b\b\b\b\b\b\b\b\b\b\b\n",
      "Epoch 4/30\n",
      "3/3 [==============================] - 0s 22ms/step - loss: 157.3899 - accuracy: 0.6250 - val_loss: 2.5400 - val_accuracy: 0.8750\b\b\b\b\b\b\b\b\b\b\b\b\b\b\b\b\b\b\b\b\b\b\b\b\b\b\b\b\b\b\b\b\b\b\b\n",
      "Epoch 5/30\n",
      "3/3 [==============================] - 0s 29ms/step - loss: 99.9384 - accuracy: 0.5278 - val_loss: 48.6274 - val_accuracy: 0.6250\b\b\b\b\b\b\b\b\b\b\b\b\b\b\b\b\b\b\b\b\b\b\b\b\b\b\b\b\b\b\b\b\b\b\b\n",
      "Epoch 6/30\n",
      "3/3 [==============================] - 0s 23ms/step - loss: 40.4300 - accuracy: 0.7083 - val_loss: 17.4578 - val_accuracy: 0.3750\b\b\b\b\b\b\b\b\b\b\b\b\b\b\b\b\b\b\b\b\b\b\b\b\b\b\b\b\b\b\b\b\b\n",
      "Epoch 7/30\n",
      "3/3 [==============================] - 0s 37ms/step - loss: 60.8760 - accuracy: 0.5972 - val_loss: 29.5608 - val_accuracy: 0.6250\b\b\b\b\b\b\b\b\b\b\b\b\b\b\b\b\b\b\b\b\b\b\b\b\b\b\b\b\b\b\b\b\b\n",
      "Epoch 8/30\n",
      "3/3 [==============================] - 0s 37ms/step - loss: 47.1689 - accuracy: 0.6944 - val_loss: 84.3941 - val_accuracy: 0.6250\b\b\b\b\b\b\b\b\b\b\b\b\b\b\b\b\b\b\b\b\b\b\b\b\b\b\b\b\b\b\b\b\b\n",
      "Epoch 9/30\n",
      "3/3 [==============================] - 0s 41ms/step - loss: 63.8797 - accuracy: 0.6667 - val_loss: 23.7807 - val_accuracy: 0.6250\b\b\b\b\b\b\b\b\b\b\b\b\b\b\b\b\b\b\b\b\b\b\b\b\b\b\b\b\b\b\b\b\b\n",
      "Epoch 10/30\n",
      "3/3 [==============================] - 0s 39ms/step - loss: 34.7310 - accuracy: 0.5972 - val_loss: 4.7317 - val_accuracy: 0.5000\b\b\b\b\b\b\b\b\b\b\b\b\b\b\b\b\b\b\b\b\b\b\b\b\b\b\b\b\b\b\b\b\b\b\n",
      "Epoch 11/30\n",
      "3/3 [==============================] - 0s 41ms/step - loss: 28.9998 - accuracy: 0.4583 - val_loss: 12.5875 - val_accuracy: 0.6250\b\b\b\b\b\b\b\b\b\b\b\b\b\b\b\b\b\b\b\b\b\b\b\b\b\b\b\b\b\b\b\b\b\n",
      "Epoch 12/30\n",
      "3/3 [==============================] - 0s 34ms/step - loss: 22.5393 - accuracy: 0.6667 - val_loss: 0.0109 - val_accuracy: 1.0000\b\b\b\b\b\b\b\b\b\b\b\b\b\b\b\b\b\b\b\b\b\b\b\b\b\b\b\b\b\b\b\b\b\b\n",
      "Epoch 13/30\n",
      "3/3 [==============================] - 0s 46ms/step - loss: 14.4548 - accuracy: 0.7500 - val_loss: 8.3069 - val_accuracy: 0.7500\b\b\b\b\b\b\b\b\b\b\b\b\b\b\b\b\b\b\b\b\b\b\b\b\b\b\b\b\b\b\b\b\n",
      "Epoch 14/30\n",
      "3/3 [==============================] - 0s 31ms/step - loss: 22.8229 - accuracy: 0.7500 - val_loss: 2.6429 - val_accuracy: 0.8750\b\b\b\b\b\b\b\b\b\b\b\b\b\b\b\b\b\b\b\b\b\b\b\b\b\b\b\b\b\b\b\b\b\b\n",
      "Epoch 15/30\n",
      "3/3 [==============================] - 0s 54ms/step - loss: 14.4929 - accuracy: 0.7917 - val_loss: 1.7624 - val_accuracy: 0.8750\b\b\b\b\b\b\b\b\b\b\b\b\b\b\b\b\b\b\b\b\b\b\b\b\b\b\b\b\b\b\b\b\b\b\b\b\b\b\b\b\b\b\b\b\b\b\b\b\b\b\b\b\b\b\b\b\b\b\b\b\b\b\b\b\b\b\b\b\b\b\b\b\b\b\b\b\b\b\b\b\b\b\b\b\b\b\b\b\b\b\b\b\b\b\b\b\b\b\b\b\b\b\b\b\b\b\b\b\b\b\b\b\b\n",
      "Epoch 16/30\n",
      "3/3 [==============================] - 0s 32ms/step - loss: 11.6197 - accuracy: 0.7500 - val_loss: 24.8170 - val_accuracy: 0.6250\b\b\b\b\b\b\b\b\b\b\b\b\b\b\b\b\b\b\b\b\b\b\b\b\b\b\b\b\b\b\b\n",
      "Epoch 17/30\n",
      "3/3 [==============================] - 0s 25ms/step - loss: 21.3671 - accuracy: 0.6806 - val_loss: 7.4749 - val_accuracy: 0.6250\b\b\b\b\b\b\b\b\b\b\b\b\b\b\b\b\b\b\b\b\b\b\b\b\b\b\b\b\b\b\b\b\b\b\n",
      "Epoch 18/30\n",
      "3/3 [==============================] - 0s 32ms/step - loss: 7.8860 - accuracy: 0.7361 - val_loss: 5.2905 - val_accuracy: 0.5000\b\b\b\b\b\b\b\b\b\b\b\b\b\b\b\b\b\b\b\b\b\b\b\b\b\b\b\b\b\b\b\b\b\n",
      "Epoch 19/30\n",
      "3/3 [==============================] - 0s 42ms/step - loss: 12.8249 - accuracy: 0.6528 - val_loss: 11.8528 - val_accuracy: 0.6250\b\b\b\b\b\b\b\b\b\b\b\b\b\b\b\b\b\b\b\b\b\b\b\b\b\b\b\b\b\b\b\b\b\n",
      "Epoch 20/30\n",
      "3/3 [==============================] - 0s 32ms/step - loss: 24.4013 - accuracy: 0.7222 - val_loss: 3.7776 - val_accuracy: 0.6250\b\b\b\b\b\b\b\b\b\b\b\b\b\b\b\b\b\b\b\b\b\b\b\b\b\b\b\b\b\b\b\b\b\b\n",
      "Epoch 21/30\n",
      "3/3 [==============================] - 0s 36ms/step - loss: 14.4505 - accuracy: 0.7083 - val_loss: 7.2761 - val_accuracy: 0.6250\b\b\b\b\b\b\b\b\b\b\b\b\b\b\b\b\b\b\b\b\b\b\b\b\b\b\b\b\b\b\b\b\b\b\n",
      "Epoch 22/30\n",
      "3/3 [==============================] - 0s 16ms/step - loss: 13.7105 - accuracy: 0.6944 - val_loss: 8.9029 - val_accuracy: 0.6250\b\b\b\b\b\b\b\b\b\b\b\b\b\b\b\b\b\b\b\b\b\b\b\b\b\b\b\b\b\b\b\b\b\b\n",
      "Epoch 23/30\n",
      "3/3 [==============================] - 0s 30ms/step - loss: 14.3265 - accuracy: 0.7222 - val_loss: 1.0059 - val_accuracy: 0.8750\b\b\b\b\b\b\b\b\b\b\b\b\b\b\b\b\b\b\b\b\b\b\b\b\b\b\b\b\b\b\b\b\n",
      "Epoch 24/30\n",
      "3/3 [==============================] - 0s 31ms/step - loss: 7.1340 - accuracy: 0.7917 - val_loss: 3.2659 - val_accuracy: 0.6250\b\b\b\b\b\b\b\b\b\b\b\b\b\b\b\b\b\b\b\b\b\b\b\b\b\b\b\b\b\b\b\b\b\n",
      "Epoch 25/30\n",
      "3/3 [==============================] - 0s 41ms/step - loss: 4.6140 - accuracy: 0.7778 - val_loss: 0.4991 - val_accuracy: 0.8750\b\b\b\b\b\b\b\b\b\b\b\b\b\b\b\b\b\b\b\b\b\b\b\b\b\b\b\b\b\b\b\b\b\n",
      "Epoch 26/30\n",
      "3/3 [==============================] - 0s 73ms/step - loss: 4.4574 - accuracy: 0.7500 - val_loss: 0.1394 - val_accuracy: 0.8750\b\b\b\b\b\b\b\b\b\b\b\b\b\b\b\b\b\b\b\b\b\b\b\b\b\b\b\b\b\b\b\b\b\n",
      "Epoch 27/30\n",
      "3/3 [==============================] - 0s 45ms/step - loss: 4.5942 - accuracy: 0.7222 - val_loss: 0.5063 - val_accuracy: 0.8750\b\b\b\b\b\b\b\b\b\b\b\b\b\b\b\b\b\b\b\b\b\b\b\b\b\b\b\b\b\b\b\b\b\n",
      "Epoch 28/30\n",
      "3/3 [==============================] - 0s 30ms/step - loss: 1.9328 - accuracy: 0.8194 - val_loss: 0.1223 - val_accuracy: 0.8750\b\b\b\b\b\b\b\b\b\b\b\b\b\b\b\b\b\b\b\b\b\b\b\b\b\b\b\b\b\b\b\b\b\n",
      "Epoch 29/30\n",
      "3/3 [==============================] - 0s 46ms/step - loss: 2.7985 - accuracy: 0.8056 - val_loss: 1.4553 - val_accuracy: 0.8750\b\b\b\b\b\b\b\b\b\b\b\b\b\b\b\b\b\b\b\b\b\b\b\b\b\b\b\b\b\b\b\b\b\b\b\b\b\b\b\b\b\b\b\b\b\b\b\b\b\b\b\b\b\b\b\b\b\b\b\b\b\b\b\b\b\b\b\b\b\b\b\b\b\b\b\b\b\b\b\b\b\b\b\b\b\b\b\b\b\b\b\b\b\b\b\b\b\b\b\b\b\b\b\b\b\b\b\b\b\b\b\b\b\n",
      "Epoch 30/30\n",
      "3/3 [==============================] - 0s 25ms/step - loss: 2.9802 - accuracy: 0.8056 - val_loss: 1.2943 - val_accuracy: 0.8750\b\b\b\b\b\b\b\b\b\b\b\b\b\b\b\b\b\b\b\b\b\b\b\b\b\b\b\b\b\b\b\b\b\n"
     ]
    },
    {
     "data": {
      "text/plain": "<keras.callbacks.History at 0x7f7670373940>"
     },
     "execution_count": 12,
     "metadata": {},
     "output_type": "execute_result"
    }
   ],
   "source": [
    "model.fit(X_train, y_train, validation_split=0.1, epochs=30, verbose=1)\n"
   ],
   "metadata": {
    "collapsed": false,
    "pycharm": {
     "name": "#%%\n"
    }
   }
  },
  {
   "cell_type": "code",
   "execution_count": 13,
   "outputs": [
    {
     "name": "stdout",
     "output_type": "stream",
     "text": [
      "[0 0 0 0 0 0 0 0 0 0 0 0 0 0 0 1 0 0 0 0 0 1 1 1 0 1 0 0 0 1 0 0 0 0 0]\n",
      "[1 0 0 0 0 0 0 1 0 0 0 0 0 0 0 0 1 1 0 0 0 1 1 1 0 1 1 0 0 1 1 0 0 0 1]\n",
      "2/2 - 0s - loss: 0.6492 - accuracy: 0.9143\n",
      "Test loss: 0.6492413878440857 / Test accuracy: 0.9142857193946838\n"
     ]
    }
   ],
   "source": [
    "predictions = model.predict(X_test)\n",
    "\n",
    "rounded_predictions = np.argmax(predictions, axis=1)\n",
    "print(rounded_predictions)\n",
    "print(y_test);\n",
    "score = model.evaluate(X_test, y_test, verbose=2)\n",
    "print(f'Test loss: {score[0]} / Test accuracy: {score[1]}')"
   ],
   "metadata": {
    "collapsed": false,
    "pycharm": {
     "name": "#%%\n"
    }
   }
  },
  {
   "cell_type": "code",
   "execution_count": 14,
   "outputs": [],
   "source": [
    "from sklearn.metrics import confusion_matrix\n",
    "import itertools\n",
    "#cm = confusion_matrix(y_true=y_test, y_pred=predictions)"
   ],
   "metadata": {
    "collapsed": false,
    "pycharm": {
     "name": "#%%\n"
    }
   }
  }
 ],
 "metadata": {
  "kernelspec": {
   "display_name": "Python 3",
   "language": "python",
   "name": "python3"
  },
  "language_info": {
   "codemirror_mode": {
    "name": "ipython",
    "version": 2
   },
   "file_extension": ".py",
   "mimetype": "text/x-python",
   "name": "python",
   "nbconvert_exporter": "python",
   "pygments_lexer": "ipython2",
   "version": "2.7.6"
  }
 },
 "nbformat": 4,
 "nbformat_minor": 0
}