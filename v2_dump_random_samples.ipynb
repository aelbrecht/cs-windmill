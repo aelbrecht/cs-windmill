{
 "cells": [
  {
   "cell_type": "code",
   "execution_count": 5,
   "outputs": [],
   "source": [
    "\n",
    "import rasterio\n",
    "\n",
    "from functions.image import get_satellite_raw_uint8"
   ],
   "metadata": {
    "collapsed": false,
    "pycharm": {
     "name": "#%%\n"
    }
   }
  },
  {
   "cell_type": "code",
   "execution_count": 6,
   "outputs": [],
   "source": [
    "dataset = rasterio.open(\"./data/crs.tiff\")\n",
    "img_data = dataset.read(1)\n",
    "block_size = 30\n"
   ],
   "metadata": {
    "collapsed": false,
    "pycharm": {
     "name": "#%%\n"
    }
   }
  },
  {
   "cell_type": "code",
   "execution_count": null,
   "outputs": [],
   "source": [
    "from PIL import Image\n",
    "import random"
   ],
   "metadata": {
    "collapsed": false,
    "pycharm": {
     "name": "#%%\n"
    }
   }
  },
  {
   "cell_type": "code",
   "execution_count": 29,
   "outputs": [],
   "source": [
    "left_top_coord = (1.60271,52.49735)  # enter coordinate here\n",
    "img_h, img_w = (750, 500)\n",
    "left_top_x, left_top_y = dataset.index(left_top_coord[0], left_top_coord[1])\n",
    "needles = []\n",
    "step_size = 8\n",
    "\n",
    "for xx in range(left_top_x + block_size // 2, left_top_x + img_w - block_size // 2, step_size):\n",
    "    for yy in range(left_top_y + block_size // 2, left_top_y + img_h - block_size // 2, step_size):\n",
    "        cc = dataset.transform * (yy, xx)\n",
    "        needles.append({'lon': cc[0], 'lat': cc[1]})\n",
    "\n",
    "j = 0\n",
    "samples = random.sample(needles, 50)\n",
    "for coord in samples:\n",
    "    a = get_satellite_raw_uint8(coord, block_size, img_data, dataset)\n",
    "    im = Image.fromarray(a)\n",
    "    im.save(\"./examples/%s-%s.png\" % (str(coord[\"lon\"]).replace(\".\", \"_\"), str(coord[\"lat\"]).replace(\".\", \"_\")))"
   ],
   "metadata": {
    "collapsed": false,
    "pycharm": {
     "name": "#%%\n"
    }
   }
  },
  {
   "cell_type": "code",
   "execution_count": null,
   "outputs": [],
   "source": [],
   "metadata": {
    "collapsed": false,
    "pycharm": {
     "name": "#%%\n"
    }
   }
  }
 ],
 "metadata": {
  "kernelspec": {
   "display_name": "Python 3",
   "language": "python",
   "name": "python3"
  },
  "language_info": {
   "codemirror_mode": {
    "name": "ipython",
    "version": 2
   },
   "file_extension": ".py",
   "mimetype": "text/x-python",
   "name": "python",
   "nbconvert_exporter": "python",
   "pygments_lexer": "ipython2",
   "version": "2.7.6"
  }
 },
 "nbformat": 4,
 "nbformat_minor": 0
}