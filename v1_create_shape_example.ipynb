{
 "cells": [
  {
   "cell_type": "code",
   "source": [
    "import csv\n",
    "\n",
    "import numpy as np\n",
    "import pandas as pd\n",
    "import rasterio\n",
    "from sklearn.model_selection import train_test_split\n",
    "from tensorflow import keras\n",
    "\n",
    "from functions.image import get_filtered_satellite_float32"
   ],
   "metadata": {
    "collapsed": false,
    "pycharm": {
     "name": "#%%\n"
    }
   },
   "execution_count": null,
   "outputs": []
  },
  {
   "cell_type": "code",
   "execution_count": null,
   "outputs": [],
   "source": [
    "dataset = rasterio.open(\"./data/crs.tiff\")\n",
    "img_data = dataset.read(1)\n",
    "block_size = 30\n",
    "\n",
    "\n",
    "def get_image(coord):\n",
    "    return get_filtered_satellite_float32(coord, block_size, img_data, dataset)"
   ],
   "metadata": {
    "collapsed": false,
    "pycharm": {
     "name": "#%%\n"
    }
   }
  },
  {
   "cell_type": "code",
   "execution_count": null,
   "outputs": [],
   "source": [
    "with open('training/data_bin.csv', 'r') as f:\n",
    "    reader = csv.DictReader(f)\n",
    "    labeled_coords = [r for r in reader]\n",
    "print(\"labeled dataset contains {} points\".format(len(labeled_coords)))"
   ],
   "metadata": {
    "collapsed": false,
    "pycharm": {
     "name": "#%%\n"
    }
   }
  },
  {
   "cell_type": "code",
   "execution_count": null,
   "outputs": [],
   "source": [
    "X = list(map(get_image, labeled_coords))\n",
    "Y = [int(l['windmill']) for l in labeled_coords]"
   ],
   "metadata": {
    "collapsed": false,
    "pycharm": {
     "name": "#%%\n"
    }
   }
  },
  {
   "cell_type": "code",
   "execution_count": null,
   "outputs": [],
   "source": [
    "X_train, X_test, Y_train, Y_test = train_test_split(X, Y, test_size=0.3)\n",
    "\n",
    "X_train = np.stack(X_train)\n",
    "X_test = np.stack(X_test)\n",
    "Y_train = keras.utils.to_categorical(Y_train, 2)\n",
    "Y_test = keras.utils.to_categorical(Y_test, 2)"
   ],
   "metadata": {
    "collapsed": false,
    "pycharm": {
     "name": "#%%\n"
    }
   }
  },
  {
   "cell_type": "code",
   "execution_count": null,
   "outputs": [],
   "source": [
    "from keras import Sequential\n",
    "from keras.layers import Conv2D, MaxPooling2D, Flatten, Dropout, Dense\n",
    "\n",
    "model = Sequential()\n",
    "\n",
    "model.add(Conv2D(32, kernel_size=(3, 3), activation='relu'))\n",
    "model.add(MaxPooling2D(pool_size=(2, 2)))\n",
    "model.add(Conv2D(64, kernel_size=(3, 3), activation='relu'))\n",
    "model.add(MaxPooling2D(pool_size=(2, 2)))\n",
    "model.add(Flatten())\n",
    "model.add(Dropout(0.5))\n",
    "model.add(Dense(2, activation='softmax'))\n",
    "\n",
    "model.compile(optimizer='adam', loss='categorical_crossentropy', metrics=['accuracy'])"
   ],
   "metadata": {
    "collapsed": false,
    "pycharm": {
     "name": "#%%\n"
    }
   }
  },
  {
   "cell_type": "code",
   "execution_count": null,
   "outputs": [],
   "source": [
    "model.fit(X_train, Y_train, epochs=10)"
   ],
   "metadata": {
    "collapsed": false,
    "pycharm": {
     "name": "#%%\n"
    }
   }
  },
  {
   "cell_type": "code",
   "execution_count": null,
   "outputs": [],
   "source": [
    "model.evaluate(X_test, Y_test, verbose=2)"
   ],
   "metadata": {
    "collapsed": false,
    "pycharm": {
     "name": "#%%\n"
    }
   }
  },
  {
   "cell_type": "code",
   "execution_count": null,
   "outputs": [],
   "source": [
    "left_top_coord = (2.79300,51.68376) # enter coordinate here\n",
    "#img_h, img_w = (750, 500)\n",
    "img_h, img_w = (1750, 1500)\n",
    "left_top_x, left_top_y = dataset.index(left_top_coord[0], left_top_coord[1])\n",
    "needles = []\n",
    "step_size = 8\n",
    "raw_coords = []\n",
    "\n",
    "x_count = ((img_h - block_size) // step_size)\n",
    "for xx in range(left_top_x + block_size // 2, left_top_x + img_w - block_size // 2, step_size):\n",
    "    for yy in range(left_top_y + block_size // 2, left_top_y + img_h - block_size // 2, step_size):\n",
    "        raw_coords.append((xx,yy))\n",
    "        cc = dataset.transform * (yy, xx)\n",
    "        needles.append({'lon': cc[0], 'lat': cc[1]})\n",
    "\n",
    "needle_data = np.stack([get_image(coord) for coord in needles])\n",
    "results = model.predict(needle_data)\n"
   ],
   "metadata": {
    "collapsed": false,
    "pycharm": {
     "name": "#%%\n"
    }
   }
  },
  {
   "cell_type": "code",
   "execution_count": null,
   "outputs": [],
   "source": [
    "from matplotlib import pyplot as plt\n",
    "\n",
    "search_space = np.copy(img_data[left_top_x:left_top_x + img_w, left_top_y:left_top_y + img_h])\n",
    "highlight = np.max(search_space)/2\n",
    "\n",
    "found = 0\n",
    "previous_i = 0\n",
    "found_i = []\n",
    "coords = []\n",
    "\n",
    "final_results = []\n",
    "\n",
    "for i, result in enumerate(results):\n",
    "    if result[1] > result[0]:\n",
    "        if (i - previous_i <= 2):\n",
    "            continue\n",
    "        if (i - x_count in found_i or (i - (x_count * 2)) in found_i or (i + 1 - x_count) in found_i):\n",
    "            continue\n",
    "        found += 1\n",
    "        previous_i = i\n",
    "        found_i.append(i)\n",
    "        coord = needles[i]\n",
    "        xx, yy = dataset.index(coord['lon'], coord['lat'])\n",
    "        xx -= left_top_x\n",
    "        yy -= left_top_y\n",
    "\n",
    "        search_space[xx - block_size // 2:xx + block_size // 2, yy - block_size // 2] = highlight\n",
    "        search_space[xx - block_size // 2:xx + block_size // 2, yy + block_size // 2] = highlight\n",
    "        search_space[xx - block_size // 2, yy - block_size // 2:yy + block_size // 2] = highlight\n",
    "        search_space[xx + block_size // 2, yy - block_size // 2:yy + block_size // 2] = highlight\n",
    "        coords.append(coord)\n",
    "        final_results.append((coord['lon'], coord['lat']))\n",
    "\n",
    "print(\"found {} windmills\".format(found))\n",
    "\n",
    "plt.rcParams['figure.figsize'] = [20, 10]\n",
    "plt.imshow(search_space)\n"
   ],
   "metadata": {
    "collapsed": false,
    "pycharm": {
     "name": "#%%\n"
    }
   }
  },
  {
   "cell_type": "code",
   "execution_count": null,
   "outputs": [],
   "source": [
    "import matplotlib.pyplot as plt\n",
    "import matplotlib.cm as cm\n",
    "from sklearn import datasets, cluster, neighbors, metrics, tree, svm, mixture\n",
    "\n",
    "#colors = np.array(['r', 'g', 'b', 'y', 'c', 't'])\n",
    "colors = cm.rainbow(np.linspace(0, 1, 10))\n",
    "\n",
    "def apply(X, algo):\n",
    "    algo.fit(X)\n",
    "    labels = algo.labels_.astype(np.int)\n",
    "    plt.scatter(X[:, 0], X[:, 1], color=colors[labels])\n",
    "    plt.show()\n",
    "    return labels\n",
    "\n",
    "df = pd.DataFrame(coords)\n",
    "X = df.to_numpy()\n",
    "\n",
    "\n",
    "#apply(X, cluster.KMeans(n_clusters=3))\n",
    "apply(X, cluster.DBSCAN(eps=.011))\n",
    "#apply(X, cluster.SpectralClustering(n_clusters=2, affinity=\"nearest_neighbors\"))"
   ],
   "metadata": {
    "collapsed": false,
    "pycharm": {
     "name": "#%%\n"
    }
   }
  },
  {
   "cell_type": "code",
   "execution_count": null,
   "outputs": [],
   "source": [
    "from shapely.geometry import Point\n",
    "from functools import partial\n",
    "from shapely.ops import transform\n",
    "import pyproj\n",
    "import geopandas as gpd\n",
    "import pandas as pd\n",
    "\n",
    "\n",
    "list_lon = []\n",
    "list_lat = []\n",
    "list_geom = []\n",
    "for final_coord in final_results:\n",
    "    list_lon.append(final_coord[0])\n",
    "    list_lat.append(final_coord[1])\n",
    "\n",
    "# df_result = gpd.GeoDataFrame({\n",
    "#                 'lon': pd.Series(list_lon, dtype='float'),\n",
    "#                 'lat': pd.Series(list_lat, dtype='float'),\n",
    "#     })\n",
    "df_result = gpd.GeoDataFrame({\n",
    "        'geometry': gpd.points_from_xy(list_lon, list_lat, crs=\"EPSG:4326\").buffer(0.008)\n",
    "})\n",
    "df_result['geometry']\n",
    "from shapely.ops import unary_union\n",
    "cu = unary_union(df_result['geometry']);\n",
    "df2_result = gpd.GeoDataFrame({\n",
    "        'geometry': cu\n",
    "})\n",
    "\n",
    "\n",
    "# final_results\n",
    "#\n",
    "# df_result = gpd.GeoDataFrame({\n",
    "#                 'lon': pd.Series(list_lon, dtype='float'),\n",
    "#                 'lat': pd.Series(list_lat, dtype='float'),\n",
    "#                 'geometry': pd.Series(list_geom, dtype='geometry')})\n",
    "df2_result.crs = 'epsg:4326'\n",
    "df2_result.to_file(\"result.shp\")"
   ],
   "metadata": {
    "collapsed": false,
    "pycharm": {
     "name": "#%%\n"
    }
   }
  }
 ],
 "metadata": {
  "kernelspec": {
   "display_name": "Python 3",
   "language": "python",
   "name": "python3"
  },
  "language_info": {
   "codemirror_mode": {
    "name": "ipython",
    "version": 2
   },
   "file_extension": ".py",
   "mimetype": "text/x-python",
   "name": "python",
   "nbconvert_exporter": "python",
   "pygments_lexer": "ipython2",
   "version": "2.7.6"
  }
 },
 "nbformat": 4,
 "nbformat_minor": 0
}